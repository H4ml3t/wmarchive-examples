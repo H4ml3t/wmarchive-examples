{
 "cells": [
  {
   "cell_type": "markdown",
   "metadata": {},
   "source": [
    "### Write JSONs in Avro snappy files\n",
    "\n",
    "Spark-submit needs option\n",
    "\n",
    "    --packages com.databricks:spark-avro_2.10:2.0.1"
   ]
  },
  {
   "cell_type": "code",
   "execution_count": 1,
   "metadata": {
    "collapsed": true
   },
   "outputs": [],
   "source": [
    "#!/usr/bin/env python\n",
    "\"\"\"\n",
    "File       : AvroSnappyIO.py\n",
    "Author     : Luca Menichetti <luca.menichetti AT cern dot ch>\n",
    "Description: Converts a set of JSONs into Avro files with Snappy conversion,\n",
    "             Spark SQLContext is needed (or HiveContext)\n",
    "\"\"\"\n",
    "\n",
    "import json\n",
    "\n",
    "class AvroSnappyIO(object):\n",
    "    def __init__(self, sparkContext, sparkSQLContext):\n",
    "        self.sqlc = sparkSQLContext\n",
    "        self.sc = sparkContext\n",
    "\n",
    "    def file_write(self, fname, data, repartitionNumber=None, write_mode=\"append\"):\n",
    "        \"\"\"\n",
    "        fname: output folder name, usually a HDFS path\n",
    "        data: an array of JSONs\n",
    "        repartitionNumer: [optional] the number of partitions used to write the output file\n",
    "        \"\"\"\n",
    "        if not self.sqlc or not self.sc:\n",
    "            raise Exception(\"Both Spark Context and SQLContext must be available\")\n",
    "        jsonDocsDF = self.sqlc.jsonRDD(self.sc.parallelize([json.dumps(j) for j in data]))\n",
    "        sqlContext.setConf(\"spark.sql.avro.compression.codec\", \"snappy\")\n",
    "        if repartitionNumber:\n",
    "            jsonDocsDF.repartition(repartitionNumber).save(fname, \"com.databricks.spark.avro\", mode=write_mode)\n",
    "        else:\n",
    "            jsonDocsDF.save(fname, \"com.databricks.spark.avro\", mode=write_mode)"
   ]
  },
  {
   "cell_type": "code",
   "execution_count": 2,
   "metadata": {
    "collapsed": false
   },
   "outputs": [],
   "source": [
    "avro_snappy_IO = AvroSnappyIO(sc,sqlContext)"
   ]
  },
  {
   "cell_type": "code",
   "execution_count": 3,
   "metadata": {
    "collapsed": true
   },
   "outputs": [],
   "source": [
    "fwjr_array = [\n",
    "    {\"PFNArrayRef\":[\"inputPFNs\",\"outputPFNs\",\"pfn\"],\"task\":\"/AbcCde_Task_Data_test_2882516/RECO\",\"skippedFiles\":[1],\"wmaid\":\"dd33065a5371dc8a2627d4ed4f38f87a\",\"wmats\":\"1.45746097721583E9\",\"fallbackFiles\":[0],\"LFNArray\":[\"/store/data/Run2011A/Cosmics/RAW/v1/157/157/157/527326916439-527326916439-527326916439.root\",\"/store/data/Run2011A/Cosmics/RAW/v1/459/459/459/938188751161-938188751161-938188751161.root\",\"/store/data/Run2011A/Cosmics/RAW/v1/991/991/991/823442742311-823442742311-823442742311.root\",\"/store/data/Run2011A/Cosmics/RAW/v1/524/524/524/472239962435-472239962435-472239962435.root\"],\"meta_data\":{\"agent_ver\":\"1.0.14.pre5\",\"fwjr_id\":\"1-0\",\"host\":\"test.fnal.gov\",\"ts\":1456500229},\"PFNArray\":[\"root://eoscms.cern.ch//eos/cms/store/data/Run2011A/Cosmics/RAW/v1/000/160/960/E8099605-8853-E011-A848-0030487A18F2.root\",\"root://eoscms.cern.ch//eos/cms/store/unmerged/CMSSW_7_0_0_pre11/Cosmics/ALCARECO/DtCalib-RECOCOSD_TaskChain_Data_pile_up_test-v1/00000/ECCFE421-08CB-E511-9F4C-02163E017804.root\"],\"LFNArrayRef\":[\"fallbackFiles\",\"outputLFNs\",\"lfn\",\"skippedFiles\",\"inputLFNs\"],\"stype\":\"mongodb\"},\n",
    "    {\"PFNArrayRef\":[\"inputPFNs\",\"outputPFNs\",\"pfn\"],\"task\":\"/AbcCde_Task_Data_test_2882516/RECO\",\"skippedFiles\":[1],\"wmaid\":\"dd33065a5371dc8a2627d4ed4f38f87a\",\"wmats\":\"1.45746097721583E9\",\"fallbackFiles\":[0],\"LFNArray\":[\"/store/data/Run2011A/Cosmics/RAW/v1/157/157/157/527326916439-527326916439-527326916439.root\",\"/store/data/Run2011A/Cosmics/RAW/v1/459/459/459/938188751161-938188751161-938188751161.root\",\"/store/data/Run2011A/Cosmics/RAW/v1/991/991/991/823442742311-823442742311-823442742311.root\",\"/store/data/Run2011A/Cosmics/RAW/v1/524/524/524/472239962435-472239962435-472239962435.root\"],\"meta_data\":{\"agent_ver\":\"1.0.14.pre5\",\"fwjr_id\":\"1-0\",\"host\":\"test.fnal.gov\",\"ts\":1456500229},\"PFNArray\":[\"root://eoscms.cern.ch//eos/cms/store/data/Run2011A/Cosmics/RAW/v1/000/160/960/E8099605-8853-E011-A848-0030487A18F2.root\",\"root://eoscms.cern.ch//eos/cms/store/unmerged/CMSSW_7_0_0_pre11/Cosmics/ALCARECO/DtCalib-RECOCOSD_TaskChain_Data_pile_up_test-v1/00000/ECCFE421-08CB-E511-9F4C-02163E017804.root\"],\"LFNArrayRef\":[\"fallbackFiles\",\"outputLFNs\",\"lfn\",\"skippedFiles\",\"inputLFNs\"],\"stype\":\"mongodb\"},\n",
    "    {\"PFNArrayRef\":[\"inputPFNs\",\"outputPFNs\",\"pfn\"],\"task\":\"/AbcCde_Task_Data_test_2882516/RECO\",\"skippedFiles\":[1],\"wmaid\":\"dd33065a5371dc8a2627d4ed4f38f87a\",\"wmats\":\"1.45746097721583E9\",\"fallbackFiles\":[0],\"LFNArray\":[\"/store/data/Run2011A/Cosmics/RAW/v1/157/157/157/527326916439-527326916439-527326916439.root\",\"/store/data/Run2011A/Cosmics/RAW/v1/459/459/459/938188751161-938188751161-938188751161.root\",\"/store/data/Run2011A/Cosmics/RAW/v1/991/991/991/823442742311-823442742311-823442742311.root\",\"/store/data/Run2011A/Cosmics/RAW/v1/524/524/524/472239962435-472239962435-472239962435.root\"],\"meta_data\":{\"agent_ver\":\"1.0.14.pre5\",\"fwjr_id\":\"1-0\",\"host\":\"test.fnal.gov\",\"ts\":1456500229},\"PFNArray\":[\"root://eoscms.cern.ch//eos/cms/store/data/Run2011A/Cosmics/RAW/v1/000/160/960/E8099605-8853-E011-A848-0030487A18F2.root\",\"root://eoscms.cern.ch//eos/cms/store/unmerged/CMSSW_7_0_0_pre11/Cosmics/ALCARECO/DtCalib-RECOCOSD_TaskChain_Data_pile_up_test-v1/00000/ECCFE421-08CB-E511-9F4C-02163E017804.root\"],\"LFNArrayRef\":[\"fallbackFiles\",\"outputLFNs\",\"lfn\",\"skippedFiles\",\"inputLFNs\"],\"stype\":\"mongodb\"}\n",
    "]"
   ]
  },
  {
   "cell_type": "code",
   "execution_count": 5,
   "metadata": {
    "collapsed": false
   },
   "outputs": [
    {
     "name": "stderr",
     "output_type": "stream",
     "text": [
      "/root/spark-current/python/pyspark/sql/dataframe.py:167: UserWarning: insertInto is deprecated. Use write.save() instead.\n",
      "  warnings.warn(\"insertInto is deprecated. Use write.save() instead.\")\n"
     ]
    }
   ],
   "source": [
    "avro_snappy_IO.file_write(\"test-json2avro-snappy\",fwjr_array, 1)"
   ]
  },
  {
   "cell_type": "code",
   "execution_count": 6,
   "metadata": {
    "collapsed": false
   },
   "outputs": [
    {
     "name": "stdout",
     "output_type": "stream",
     "text": [
      "Found 2 items\n",
      "-rw-r--r--   3 lmeniche supergroup          0 2016-04-19 11:11 test-json2avro-snappy/_SUCCESS\n",
      "-rw-r--r--   3 lmeniche supergroup       1709 2016-04-19 11:11 test-json2avro-snappy/part-r-00000-3c0f517c-86d9-4f40-aadd-4e9da68a2b0d.avro\n"
     ]
    }
   ],
   "source": [
    "%%bash\n",
    "hadoop fs -ls test-json2avro-snappy"
   ]
  },
  {
   "cell_type": "code",
   "execution_count": 7,
   "metadata": {
    "collapsed": true
   },
   "outputs": [],
   "source": [
    "fwjr_another_array = [\n",
    "    {\"PFNArrayRef\":[\"inputPFNs\",\"outputPFNs\",\"pfn\"],\"task\":\"/AbcCde_Task_Data_test_2882516/RECO\",\"skippedFiles\":[1],\"wmaid\":\"dd33065a5371dc8a2627d4ed4f38f87a\",\"wmats\":\"1.45746097721583E9\",\"fallbackFiles\":[0],\"LFNArray\":[\"/store/data/Run2011A/Cosmics/RAW/v1/157/157/157/527326916439-527326916439-527326916439.root\",\"/store/data/Run2011A/Cosmics/RAW/v1/459/459/459/938188751161-938188751161-938188751161.root\",\"/store/data/Run2011A/Cosmics/RAW/v1/991/991/991/823442742311-823442742311-823442742311.root\",\"/store/data/Run2011A/Cosmics/RAW/v1/524/524/524/472239962435-472239962435-472239962435.root\"],\"meta_data\":{\"agent_ver\":\"1.0.14.pre5\",\"fwjr_id\":\"1-0\",\"host\":\"test.fnal.gov\",\"ts\":1456500229},\"PFNArray\":[\"root://eoscms.cern.ch//eos/cms/store/data/Run2011A/Cosmics/RAW/v1/000/160/960/E8099605-8853-E011-A848-0030487A18F2.root\",\"root://eoscms.cern.ch//eos/cms/store/unmerged/CMSSW_7_0_0_pre11/Cosmics/ALCARECO/DtCalib-RECOCOSD_TaskChain_Data_pile_up_test-v1/00000/ECCFE421-08CB-E511-9F4C-02163E017804.root\"],\"LFNArrayRef\":[\"fallbackFiles\",\"outputLFNs\",\"lfn\",\"skippedFiles\",\"inputLFNs\"],\"stype\":\"mongodb\"},\n",
    "    {\"PFNArrayRef\":[\"inputPFNs\",\"outputPFNs\",\"pfn\"],\"task\":\"/AbcCde_Task_Data_test_2882516/RECO\",\"skippedFiles\":[1],\"wmaid\":\"dd33065a5371dc8a2627d4ed4f38f87a\",\"wmats\":\"1.45746097721583E9\",\"fallbackFiles\":[0],\"LFNArray\":[\"/store/data/Run2011A/Cosmics/RAW/v1/157/157/157/527326916439-527326916439-527326916439.root\",\"/store/data/Run2011A/Cosmics/RAW/v1/459/459/459/938188751161-938188751161-938188751161.root\",\"/store/data/Run2011A/Cosmics/RAW/v1/991/991/991/823442742311-823442742311-823442742311.root\",\"/store/data/Run2011A/Cosmics/RAW/v1/524/524/524/472239962435-472239962435-472239962435.root\"],\"meta_data\":{\"agent_ver\":\"1.0.14.pre5\",\"fwjr_id\":\"1-0\",\"host\":\"test.fnal.gov\",\"ts\":1456500229},\"PFNArray\":[\"root://eoscms.cern.ch//eos/cms/store/data/Run2011A/Cosmics/RAW/v1/000/160/960/E8099605-8853-E011-A848-0030487A18F2.root\",\"root://eoscms.cern.ch//eos/cms/store/unmerged/CMSSW_7_0_0_pre11/Cosmics/ALCARECO/DtCalib-RECOCOSD_TaskChain_Data_pile_up_test-v1/00000/ECCFE421-08CB-E511-9F4C-02163E017804.root\"],\"LFNArrayRef\":[\"fallbackFiles\",\"outputLFNs\",\"lfn\",\"skippedFiles\",\"inputLFNs\"],\"stype\":\"mongodb\"},\n",
    "    {\"PFNArrayRef\":[\"inputPFNs\",\"outputPFNs\",\"pfn\"],\"task\":\"/AbcCde_Task_Data_test_2882516/RECO\",\"skippedFiles\":[1],\"wmaid\":\"dd33065a5371dc8a2627d4ed4f38f87a\",\"wmats\":\"1.45746097721583E9\",\"fallbackFiles\":[0],\"LFNArray\":[\"/store/data/Run2011A/Cosmics/RAW/v1/157/157/157/527326916439-527326916439-527326916439.root\",\"/store/data/Run2011A/Cosmics/RAW/v1/459/459/459/938188751161-938188751161-938188751161.root\",\"/store/data/Run2011A/Cosmics/RAW/v1/991/991/991/823442742311-823442742311-823442742311.root\",\"/store/data/Run2011A/Cosmics/RAW/v1/524/524/524/472239962435-472239962435-472239962435.root\"],\"meta_data\":{\"agent_ver\":\"1.0.14.pre5\",\"fwjr_id\":\"1-0\",\"host\":\"test.fnal.gov\",\"ts\":1456500229},\"PFNArray\":[\"root://eoscms.cern.ch//eos/cms/store/data/Run2011A/Cosmics/RAW/v1/000/160/960/E8099605-8853-E011-A848-0030487A18F2.root\",\"root://eoscms.cern.ch//eos/cms/store/unmerged/CMSSW_7_0_0_pre11/Cosmics/ALCARECO/DtCalib-RECOCOSD_TaskChain_Data_pile_up_test-v1/00000/ECCFE421-08CB-E511-9F4C-02163E017804.root\"],\"LFNArrayRef\":[\"fallbackFiles\",\"outputLFNs\",\"lfn\",\"skippedFiles\",\"inputLFNs\"],\"stype\":\"mongodb\"}\n",
    "]"
   ]
  },
  {
   "cell_type": "code",
   "execution_count": 8,
   "metadata": {
    "collapsed": false
   },
   "outputs": [],
   "source": [
    "avro_snappy_IO.file_write(\"test-json2avro-snappy\",fwjr_another_array, 1)"
   ]
  },
  {
   "cell_type": "code",
   "execution_count": 9,
   "metadata": {
    "collapsed": false,
    "scrolled": false
   },
   "outputs": [
    {
     "name": "stdout",
     "output_type": "stream",
     "text": [
      "Found 3 items\n",
      "-rw-r--r--   3 lmeniche supergroup          0 2016-04-19 11:11 test-json2avro-snappy/_SUCCESS\n",
      "-rw-r--r--   3 lmeniche supergroup       1709 2016-04-19 11:11 test-json2avro-snappy/part-r-00000-3c0f517c-86d9-4f40-aadd-4e9da68a2b0d.avro\n",
      "-rw-r--r--   3 lmeniche supergroup       1709 2016-04-19 11:11 test-json2avro-snappy/part-r-00000-db206d0c-aada-4491-b8d6-57835c97ddb6.avro\n"
     ]
    }
   ],
   "source": [
    "%%bash\n",
    "hadoop fs -ls test-json2avro-snappy"
   ]
  },
  {
   "cell_type": "code",
   "execution_count": 10,
   "metadata": {
    "collapsed": true
   },
   "outputs": [],
   "source": [
    "import json"
   ]
  },
  {
   "cell_type": "code",
   "execution_count": 11,
   "metadata": {
    "collapsed": true
   },
   "outputs": [],
   "source": [
    "rec = json.load(open('/afs/cern.ch/user/l/lmeniche/work-ws-link/tmp/fwjr_prod.json'))\n",
    "fwjr_array = [rec, rec]\n",
    "avro_snappy_IO.file_write(\"test-json2avro-snappy\",fwjr_array, 1)"
   ]
  },
  {
   "cell_type": "markdown",
   "metadata": {},
   "source": [
    "### Write to Local FS"
   ]
  },
  {
   "cell_type": "code",
   "execution_count": 13,
   "metadata": {
    "collapsed": false
   },
   "outputs": [],
   "source": [
    "avro_snappy_IO.file_write(\"file:///root/test-local-json2avro-snappy\",fwjr_array, 1)"
   ]
  },
  {
   "cell_type": "code",
   "execution_count": 14,
   "metadata": {
    "collapsed": false
   },
   "outputs": [
    {
     "name": "stdout",
     "output_type": "stream",
     "text": [
      "part-r-00000-f5eb56b0-3d32-4e3d-8f3c-a6d969fd7114.avro\n",
      "_SUCCESS\n"
     ]
    }
   ],
   "source": [
    "%%bash\n",
    "ls /root/test-local-json2avro-snappy/"
   ]
  },
  {
   "cell_type": "code",
   "execution_count": null,
   "metadata": {
    "collapsed": true
   },
   "outputs": [],
   "source": []
  }
 ],
 "metadata": {
  "kernelspec": {
   "display_name": "Python 2",
   "language": "python",
   "name": "python2"
  },
  "language_info": {
   "codemirror_mode": {
    "name": "ipython",
    "version": 2
   },
   "file_extension": ".py",
   "mimetype": "text/x-python",
   "name": "python",
   "nbconvert_exporter": "python",
   "pygments_lexer": "ipython2",
   "version": "2.7.11"
  }
 },
 "nbformat": 4,
 "nbformat_minor": 0
}

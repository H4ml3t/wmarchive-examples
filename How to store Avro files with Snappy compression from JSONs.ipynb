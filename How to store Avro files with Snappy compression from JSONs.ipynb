{
 "cells": [
  {
   "cell_type": "markdown",
   "metadata": {},
   "source": [
    "### Write JSONs in Avro snappy files\n",
    "\n",
    "Spark-submit needs option\n",
    "\n",
    "    --packages com.databricks:spark-avro_2.10:2.0.1"
   ]
  },
  {
   "cell_type": "code",
   "execution_count": 18,
   "metadata": {
    "collapsed": true
   },
   "outputs": [],
   "source": [
    "#!/usr/bin/env python\n",
    "\"\"\"\n",
    "File       : AvroSnappyIO.py\n",
    "Author     : Luca Menichetti <luca.menichetti AT cern dot ch>\n",
    "Description: Converts a set of JSONs into Avro files with Snappy conversion,\n",
    "             Spark SQLContext is needed (or HiveContext)\n",
    "\"\"\"\n",
    "\n",
    "import json\n",
    "\n",
    "class AvroSnappyIO(object):\n",
    "    def __init__(self, sparkContext, sparkSQLContext):\n",
    "        self.sqlc = sparkSQLContext\n",
    "        self.sc = sparkContext\n",
    "\n",
    "    def file_write(self, fname, data, repartitionNumber=None, write_mode=\"append\"):\n",
    "        \"\"\"\n",
    "        fname: output folder name, usually a HDFS path\n",
    "        data: an array of JSONs\n",
    "        repartitionNumer: [optional] the number of partitions used to write the output file\n",
    "        \"\"\"\n",
    "        if not self.sqlc or not self.sc:\n",
    "            raise Exception(\"Both Spark Context and SQLContext must be available\")\n",
    "        jsonDocsDF = self.sqlc.jsonRDD(self.sc.parallelize([json.dumps(j) for j in data]))\n",
    "        if repartitionNumber:\n",
    "            sqlContext.setConf(\"spark.sql.avro.compression.codec\", \"snappy\")\n",
    "            jsonDocsDF.repartition(repartitionNumber).write.mode(write_mode).format(\"com.databricks.spark.avro\").save(fname)\n",
    "        else:\n",
    "            jsonDocsDF.write.mode(write_mode).format(\"com.databricks.spark.avro\").save(fname)"
   ]
  },
  {
   "cell_type": "code",
   "execution_count": 19,
   "metadata": {
    "collapsed": false
   },
   "outputs": [],
   "source": [
    "avro_snappy_IO = AvroSnappyIO(sc,sqlContext)"
   ]
  },
  {
   "cell_type": "code",
   "execution_count": 20,
   "metadata": {
    "collapsed": true
   },
   "outputs": [],
   "source": [
    "fwjr_array = [\n",
    "    {\"PFNArrayRef\":[\"inputPFNs\",\"outputPFNs\",\"pfn\"],\"task\":\"/AbcCde_Task_Data_test_2882516/RECO\",\"skippedFiles\":[1],\"wmaid\":\"dd33065a5371dc8a2627d4ed4f38f87a\",\"wmats\":\"1.45746097721583E9\",\"fallbackFiles\":[0],\"LFNArray\":[\"/store/data/Run2011A/Cosmics/RAW/v1/157/157/157/527326916439-527326916439-527326916439.root\",\"/store/data/Run2011A/Cosmics/RAW/v1/459/459/459/938188751161-938188751161-938188751161.root\",\"/store/data/Run2011A/Cosmics/RAW/v1/991/991/991/823442742311-823442742311-823442742311.root\",\"/store/data/Run2011A/Cosmics/RAW/v1/524/524/524/472239962435-472239962435-472239962435.root\"],\"meta_data\":{\"agent_ver\":\"1.0.14.pre5\",\"fwjr_id\":\"1-0\",\"host\":\"test.fnal.gov\",\"ts\":1456500229},\"PFNArray\":[\"root://eoscms.cern.ch//eos/cms/store/data/Run2011A/Cosmics/RAW/v1/000/160/960/E8099605-8853-E011-A848-0030487A18F2.root\",\"root://eoscms.cern.ch//eos/cms/store/unmerged/CMSSW_7_0_0_pre11/Cosmics/ALCARECO/DtCalib-RECOCOSD_TaskChain_Data_pile_up_test-v1/00000/ECCFE421-08CB-E511-9F4C-02163E017804.root\"],\"LFNArrayRef\":[\"fallbackFiles\",\"outputLFNs\",\"lfn\",\"skippedFiles\",\"inputLFNs\"],\"stype\":\"mongodb\"},\n",
    "    {\"PFNArrayRef\":[\"inputPFNs\",\"outputPFNs\",\"pfn\"],\"task\":\"/AbcCde_Task_Data_test_2882516/RECO\",\"skippedFiles\":[1],\"wmaid\":\"dd33065a5371dc8a2627d4ed4f38f87a\",\"wmats\":\"1.45746097721583E9\",\"fallbackFiles\":[0],\"LFNArray\":[\"/store/data/Run2011A/Cosmics/RAW/v1/157/157/157/527326916439-527326916439-527326916439.root\",\"/store/data/Run2011A/Cosmics/RAW/v1/459/459/459/938188751161-938188751161-938188751161.root\",\"/store/data/Run2011A/Cosmics/RAW/v1/991/991/991/823442742311-823442742311-823442742311.root\",\"/store/data/Run2011A/Cosmics/RAW/v1/524/524/524/472239962435-472239962435-472239962435.root\"],\"meta_data\":{\"agent_ver\":\"1.0.14.pre5\",\"fwjr_id\":\"1-0\",\"host\":\"test.fnal.gov\",\"ts\":1456500229},\"PFNArray\":[\"root://eoscms.cern.ch//eos/cms/store/data/Run2011A/Cosmics/RAW/v1/000/160/960/E8099605-8853-E011-A848-0030487A18F2.root\",\"root://eoscms.cern.ch//eos/cms/store/unmerged/CMSSW_7_0_0_pre11/Cosmics/ALCARECO/DtCalib-RECOCOSD_TaskChain_Data_pile_up_test-v1/00000/ECCFE421-08CB-E511-9F4C-02163E017804.root\"],\"LFNArrayRef\":[\"fallbackFiles\",\"outputLFNs\",\"lfn\",\"skippedFiles\",\"inputLFNs\"],\"stype\":\"mongodb\"},\n",
    "    {\"PFNArrayRef\":[\"inputPFNs\",\"outputPFNs\",\"pfn\"],\"task\":\"/AbcCde_Task_Data_test_2882516/RECO\",\"skippedFiles\":[1],\"wmaid\":\"dd33065a5371dc8a2627d4ed4f38f87a\",\"wmats\":\"1.45746097721583E9\",\"fallbackFiles\":[0],\"LFNArray\":[\"/store/data/Run2011A/Cosmics/RAW/v1/157/157/157/527326916439-527326916439-527326916439.root\",\"/store/data/Run2011A/Cosmics/RAW/v1/459/459/459/938188751161-938188751161-938188751161.root\",\"/store/data/Run2011A/Cosmics/RAW/v1/991/991/991/823442742311-823442742311-823442742311.root\",\"/store/data/Run2011A/Cosmics/RAW/v1/524/524/524/472239962435-472239962435-472239962435.root\"],\"meta_data\":{\"agent_ver\":\"1.0.14.pre5\",\"fwjr_id\":\"1-0\",\"host\":\"test.fnal.gov\",\"ts\":1456500229},\"PFNArray\":[\"root://eoscms.cern.ch//eos/cms/store/data/Run2011A/Cosmics/RAW/v1/000/160/960/E8099605-8853-E011-A848-0030487A18F2.root\",\"root://eoscms.cern.ch//eos/cms/store/unmerged/CMSSW_7_0_0_pre11/Cosmics/ALCARECO/DtCalib-RECOCOSD_TaskChain_Data_pile_up_test-v1/00000/ECCFE421-08CB-E511-9F4C-02163E017804.root\"],\"LFNArrayRef\":[\"fallbackFiles\",\"outputLFNs\",\"lfn\",\"skippedFiles\",\"inputLFNs\"],\"stype\":\"mongodb\"}\n",
    "]"
   ]
  },
  {
   "cell_type": "code",
   "execution_count": 21,
   "metadata": {
    "collapsed": false
   },
   "outputs": [],
   "source": [
    "avro_snappy_IO.file_write(\"test-json2avro-snappy\",fwjr_array, 1)"
   ]
  },
  {
   "cell_type": "code",
   "execution_count": 11,
   "metadata": {
    "collapsed": false
   },
   "outputs": [
    {
     "name": "stdout",
     "output_type": "stream",
     "text": [
      "Found 2 items\n",
      "-rw-r--r--   3 lmeniche supergroup          0 2016-04-18 14:26 test-json2avro-snappy/_SUCCESS\n",
      "-rw-r--r--   3 lmeniche supergroup       1709 2016-04-18 14:26 test-json2avro-snappy/part-r-00000-b9b7cff4-3739-4246-aca8-dda3bbea85e5.avro\n"
     ]
    }
   ],
   "source": [
    "%%bash\n",
    "hadoop fs -ls test-json2avro-snappy"
   ]
  },
  {
   "cell_type": "code",
   "execution_count": 13,
   "metadata": {
    "collapsed": true
   },
   "outputs": [],
   "source": [
    "fwjr_array_2 = [\n",
    "    {\"PFNArrayRef\":[\"inputPFNs\",\"outputPFNs\",\"pfn\"],\"task\":\"/AbcCde_Task_Data_test_2882516/RECO\",\"skippedFiles\":[1],\"wmaid\":\"dd33065a5371dc8a2627d4ed4f38f87a\",\"wmats\":\"1.45746097721583E9\",\"fallbackFiles\":[0],\"LFNArray\":[\"/store/data/Run2011A/Cosmics/RAW/v1/157/157/157/527326916439-527326916439-527326916439.root\",\"/store/data/Run2011A/Cosmics/RAW/v1/459/459/459/938188751161-938188751161-938188751161.root\",\"/store/data/Run2011A/Cosmics/RAW/v1/991/991/991/823442742311-823442742311-823442742311.root\",\"/store/data/Run2011A/Cosmics/RAW/v1/524/524/524/472239962435-472239962435-472239962435.root\"],\"meta_data\":{\"agent_ver\":\"1.0.14.pre5\",\"fwjr_id\":\"1-0\",\"host\":\"test.fnal.gov\",\"ts\":1456500229},\"PFNArray\":[\"root://eoscms.cern.ch//eos/cms/store/data/Run2011A/Cosmics/RAW/v1/000/160/960/E8099605-8853-E011-A848-0030487A18F2.root\",\"root://eoscms.cern.ch//eos/cms/store/unmerged/CMSSW_7_0_0_pre11/Cosmics/ALCARECO/DtCalib-RECOCOSD_TaskChain_Data_pile_up_test-v1/00000/ECCFE421-08CB-E511-9F4C-02163E017804.root\"],\"LFNArrayRef\":[\"fallbackFiles\",\"outputLFNs\",\"lfn\",\"skippedFiles\",\"inputLFNs\"],\"stype\":\"mongodb\"},\n",
    "    {\"PFNArrayRef\":[\"inputPFNs\",\"outputPFNs\",\"pfn\"],\"task\":\"/AbcCde_Task_Data_test_2882516/RECO\",\"skippedFiles\":[1],\"wmaid\":\"dd33065a5371dc8a2627d4ed4f38f87a\",\"wmats\":\"1.45746097721583E9\",\"fallbackFiles\":[0],\"LFNArray\":[\"/store/data/Run2011A/Cosmics/RAW/v1/157/157/157/527326916439-527326916439-527326916439.root\",\"/store/data/Run2011A/Cosmics/RAW/v1/459/459/459/938188751161-938188751161-938188751161.root\",\"/store/data/Run2011A/Cosmics/RAW/v1/991/991/991/823442742311-823442742311-823442742311.root\",\"/store/data/Run2011A/Cosmics/RAW/v1/524/524/524/472239962435-472239962435-472239962435.root\"],\"meta_data\":{\"agent_ver\":\"1.0.14.pre5\",\"fwjr_id\":\"1-0\",\"host\":\"test.fnal.gov\",\"ts\":1456500229},\"PFNArray\":[\"root://eoscms.cern.ch//eos/cms/store/data/Run2011A/Cosmics/RAW/v1/000/160/960/E8099605-8853-E011-A848-0030487A18F2.root\",\"root://eoscms.cern.ch//eos/cms/store/unmerged/CMSSW_7_0_0_pre11/Cosmics/ALCARECO/DtCalib-RECOCOSD_TaskChain_Data_pile_up_test-v1/00000/ECCFE421-08CB-E511-9F4C-02163E017804.root\"],\"LFNArrayRef\":[\"fallbackFiles\",\"outputLFNs\",\"lfn\",\"skippedFiles\",\"inputLFNs\"],\"stype\":\"mongodb\"},\n",
    "    {\"PFNArrayRef\":[\"inputPFNs\",\"outputPFNs\",\"pfn\"],\"task\":\"/AbcCde_Task_Data_test_2882516/RECO\",\"skippedFiles\":[1],\"wmaid\":\"dd33065a5371dc8a2627d4ed4f38f87a\",\"wmats\":\"1.45746097721583E9\",\"fallbackFiles\":[0],\"LFNArray\":[\"/store/data/Run2011A/Cosmics/RAW/v1/157/157/157/527326916439-527326916439-527326916439.root\",\"/store/data/Run2011A/Cosmics/RAW/v1/459/459/459/938188751161-938188751161-938188751161.root\",\"/store/data/Run2011A/Cosmics/RAW/v1/991/991/991/823442742311-823442742311-823442742311.root\",\"/store/data/Run2011A/Cosmics/RAW/v1/524/524/524/472239962435-472239962435-472239962435.root\"],\"meta_data\":{\"agent_ver\":\"1.0.14.pre5\",\"fwjr_id\":\"1-0\",\"host\":\"test.fnal.gov\",\"ts\":1456500229},\"PFNArray\":[\"root://eoscms.cern.ch//eos/cms/store/data/Run2011A/Cosmics/RAW/v1/000/160/960/E8099605-8853-E011-A848-0030487A18F2.root\",\"root://eoscms.cern.ch//eos/cms/store/unmerged/CMSSW_7_0_0_pre11/Cosmics/ALCARECO/DtCalib-RECOCOSD_TaskChain_Data_pile_up_test-v1/00000/ECCFE421-08CB-E511-9F4C-02163E017804.root\"],\"LFNArrayRef\":[\"fallbackFiles\",\"outputLFNs\",\"lfn\",\"skippedFiles\",\"inputLFNs\"],\"stype\":\"mongodb\"}\n",
    "]"
   ]
  },
  {
   "cell_type": "code",
   "execution_count": 16,
   "metadata": {
    "collapsed": false
   },
   "outputs": [],
   "source": [
    "avro_snappy_IO.file_write(\"test-json2avro-snappy\",fwjr_array_2, 1)"
   ]
  },
  {
   "cell_type": "code",
   "execution_count": 17,
   "metadata": {
    "collapsed": false
   },
   "outputs": [
    {
     "name": "stdout",
     "output_type": "stream",
     "text": [
      "Found 3 items\n",
      "-rw-r--r--   3 lmeniche supergroup          0 2016-04-18 14:38 test-json2avro-snappy/_SUCCESS\n",
      "-rw-r--r--   3 lmeniche supergroup       1709 2016-04-18 14:38 test-json2avro-snappy/part-r-00000-5c256c8e-0744-463f-ac3e-d5b588398a1e.avro\n",
      "-rw-r--r--   3 lmeniche supergroup       1709 2016-04-18 14:26 test-json2avro-snappy/part-r-00000-b9b7cff4-3739-4246-aca8-dda3bbea85e5.avro\n"
     ]
    }
   ],
   "source": [
    "%%bash\n",
    "hadoop fs -ls test-json2avro-snappy"
   ]
  },
  {
   "cell_type": "code",
   "execution_count": null,
   "metadata": {
    "collapsed": true
   },
   "outputs": [],
   "source": []
  }
 ],
 "metadata": {
  "kernelspec": {
   "display_name": "Python 2",
   "language": "python",
   "name": "python2"
  },
  "language_info": {
   "codemirror_mode": {
    "name": "ipython",
    "version": 2
   },
   "file_extension": ".py",
   "mimetype": "text/x-python",
   "name": "python",
   "nbconvert_exporter": "python",
   "pygments_lexer": "ipython2",
   "version": "2.7.11"
  }
 },
 "nbformat": 4,
 "nbformat_minor": 0
}
